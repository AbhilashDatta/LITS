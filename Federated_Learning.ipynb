{
  "nbformat": 4,
  "nbformat_minor": 0,
  "metadata": {
    "colab": {
      "name": "Federated_Learning",
      "provenance": [],
      "collapsed_sections": [
        "tm6GmP7jyZpK",
        "EY5d3Qun4axf",
        "XV-GJKoC1ypD",
        "tcnwXaj114i1",
        "_I-5QuxX3hKN",
        "jHB43HlSGiVI",
        "Z_eCZRp9rtDR"
      ],
      "toc_visible": true,
      "machine_shape": "hm",
      "authorship_tag": "ABX9TyNLhhEDrC8tn2n1YAKY/yZ/",
      "include_colab_link": true
    },
    "kernelspec": {
      "name": "python3",
      "display_name": "Python 3"
    },
    "language_info": {
      "name": "python"
    },
    "accelerator": "GPU",
    "widgets": {
      "application/vnd.jupyter.widget-state+json": {
        "36ce89dd2e964078b9b79a5ee7e3a126": {
          "model_module": "@jupyter-widgets/controls",
          "model_name": "HBoxModel",
          "model_module_version": "1.5.0",
          "state": {
            "_view_name": "HBoxView",
            "_dom_classes": [],
            "_model_name": "HBoxModel",
            "_view_module": "@jupyter-widgets/controls",
            "_model_module_version": "1.5.0",
            "_view_count": null,
            "_view_module_version": "1.5.0",
            "box_style": "",
            "layout": "IPY_MODEL_3f9c8518c0374763a0c50ac90fbce11b",
            "_model_module": "@jupyter-widgets/controls",
            "children": [
              "IPY_MODEL_60b29086cb574158b1139b0c27a51a5d",
              "IPY_MODEL_3a0ae86a845a47cfb4e0b10d9e91f3ea",
              "IPY_MODEL_24e7ab76fc284ea3a8a9187b93a89c71"
            ]
          }
        },
        "3f9c8518c0374763a0c50ac90fbce11b": {
          "model_module": "@jupyter-widgets/base",
          "model_name": "LayoutModel",
          "model_module_version": "1.2.0",
          "state": {
            "_view_name": "LayoutView",
            "grid_template_rows": null,
            "right": null,
            "justify_content": null,
            "_view_module": "@jupyter-widgets/base",
            "overflow": null,
            "_model_module_version": "1.2.0",
            "_view_count": null,
            "flex_flow": null,
            "width": null,
            "min_width": null,
            "border": null,
            "align_items": null,
            "bottom": null,
            "_model_module": "@jupyter-widgets/base",
            "top": null,
            "grid_column": null,
            "overflow_y": null,
            "overflow_x": null,
            "grid_auto_flow": null,
            "grid_area": null,
            "grid_template_columns": null,
            "flex": null,
            "_model_name": "LayoutModel",
            "justify_items": null,
            "grid_row": null,
            "max_height": null,
            "align_content": null,
            "visibility": null,
            "align_self": null,
            "height": null,
            "min_height": null,
            "padding": null,
            "grid_auto_rows": null,
            "grid_gap": null,
            "max_width": null,
            "order": null,
            "_view_module_version": "1.2.0",
            "grid_template_areas": null,
            "object_position": null,
            "object_fit": null,
            "grid_auto_columns": null,
            "margin": null,
            "display": null,
            "left": null
          }
        },
        "60b29086cb574158b1139b0c27a51a5d": {
          "model_module": "@jupyter-widgets/controls",
          "model_name": "HTMLModel",
          "model_module_version": "1.5.0",
          "state": {
            "_view_name": "HTMLView",
            "style": "IPY_MODEL_1da3810e12284bdf8a82c559ecb6a23c",
            "_dom_classes": [],
            "description": "",
            "_model_name": "HTMLModel",
            "placeholder": "​",
            "_view_module": "@jupyter-widgets/controls",
            "_model_module_version": "1.5.0",
            "value": "100%",
            "_view_count": null,
            "_view_module_version": "1.5.0",
            "description_tooltip": null,
            "_model_module": "@jupyter-widgets/controls",
            "layout": "IPY_MODEL_cb2dc5789c344afeaa1b16bdcf9e8b23"
          }
        },
        "3a0ae86a845a47cfb4e0b10d9e91f3ea": {
          "model_module": "@jupyter-widgets/controls",
          "model_name": "FloatProgressModel",
          "model_module_version": "1.5.0",
          "state": {
            "_view_name": "ProgressView",
            "style": "IPY_MODEL_d5523d5c9f8d4e679e3e17d29c15a9a8",
            "_dom_classes": [],
            "description": "",
            "_model_name": "FloatProgressModel",
            "bar_style": "success",
            "max": 13,
            "_view_module": "@jupyter-widgets/controls",
            "_model_module_version": "1.5.0",
            "value": 13,
            "_view_count": null,
            "_view_module_version": "1.5.0",
            "orientation": "horizontal",
            "min": 0,
            "description_tooltip": null,
            "_model_module": "@jupyter-widgets/controls",
            "layout": "IPY_MODEL_35c025d656514e258429825664850b5b"
          }
        },
        "24e7ab76fc284ea3a8a9187b93a89c71": {
          "model_module": "@jupyter-widgets/controls",
          "model_name": "HTMLModel",
          "model_module_version": "1.5.0",
          "state": {
            "_view_name": "HTMLView",
            "style": "IPY_MODEL_f73b5c23c5d249b8bb49a3d3b1c0c1fc",
            "_dom_classes": [],
            "description": "",
            "_model_name": "HTMLModel",
            "placeholder": "​",
            "_view_module": "@jupyter-widgets/controls",
            "_model_module_version": "1.5.0",
            "value": " 13/13 [00:47&lt;00:00,  2.51s/it]",
            "_view_count": null,
            "_view_module_version": "1.5.0",
            "description_tooltip": null,
            "_model_module": "@jupyter-widgets/controls",
            "layout": "IPY_MODEL_a411836f253e4179a80812df0221e340"
          }
        },
        "1da3810e12284bdf8a82c559ecb6a23c": {
          "model_module": "@jupyter-widgets/controls",
          "model_name": "DescriptionStyleModel",
          "model_module_version": "1.5.0",
          "state": {
            "_view_name": "StyleView",
            "_model_name": "DescriptionStyleModel",
            "description_width": "",
            "_view_module": "@jupyter-widgets/base",
            "_model_module_version": "1.5.0",
            "_view_count": null,
            "_view_module_version": "1.2.0",
            "_model_module": "@jupyter-widgets/controls"
          }
        },
        "cb2dc5789c344afeaa1b16bdcf9e8b23": {
          "model_module": "@jupyter-widgets/base",
          "model_name": "LayoutModel",
          "model_module_version": "1.2.0",
          "state": {
            "_view_name": "LayoutView",
            "grid_template_rows": null,
            "right": null,
            "justify_content": null,
            "_view_module": "@jupyter-widgets/base",
            "overflow": null,
            "_model_module_version": "1.2.0",
            "_view_count": null,
            "flex_flow": null,
            "width": null,
            "min_width": null,
            "border": null,
            "align_items": null,
            "bottom": null,
            "_model_module": "@jupyter-widgets/base",
            "top": null,
            "grid_column": null,
            "overflow_y": null,
            "overflow_x": null,
            "grid_auto_flow": null,
            "grid_area": null,
            "grid_template_columns": null,
            "flex": null,
            "_model_name": "LayoutModel",
            "justify_items": null,
            "grid_row": null,
            "max_height": null,
            "align_content": null,
            "visibility": null,
            "align_self": null,
            "height": null,
            "min_height": null,
            "padding": null,
            "grid_auto_rows": null,
            "grid_gap": null,
            "max_width": null,
            "order": null,
            "_view_module_version": "1.2.0",
            "grid_template_areas": null,
            "object_position": null,
            "object_fit": null,
            "grid_auto_columns": null,
            "margin": null,
            "display": null,
            "left": null
          }
        },
        "d5523d5c9f8d4e679e3e17d29c15a9a8": {
          "model_module": "@jupyter-widgets/controls",
          "model_name": "ProgressStyleModel",
          "model_module_version": "1.5.0",
          "state": {
            "_view_name": "StyleView",
            "_model_name": "ProgressStyleModel",
            "description_width": "",
            "_view_module": "@jupyter-widgets/base",
            "_model_module_version": "1.5.0",
            "_view_count": null,
            "_view_module_version": "1.2.0",
            "bar_color": null,
            "_model_module": "@jupyter-widgets/controls"
          }
        },
        "35c025d656514e258429825664850b5b": {
          "model_module": "@jupyter-widgets/base",
          "model_name": "LayoutModel",
          "model_module_version": "1.2.0",
          "state": {
            "_view_name": "LayoutView",
            "grid_template_rows": null,
            "right": null,
            "justify_content": null,
            "_view_module": "@jupyter-widgets/base",
            "overflow": null,
            "_model_module_version": "1.2.0",
            "_view_count": null,
            "flex_flow": null,
            "width": null,
            "min_width": null,
            "border": null,
            "align_items": null,
            "bottom": null,
            "_model_module": "@jupyter-widgets/base",
            "top": null,
            "grid_column": null,
            "overflow_y": null,
            "overflow_x": null,
            "grid_auto_flow": null,
            "grid_area": null,
            "grid_template_columns": null,
            "flex": null,
            "_model_name": "LayoutModel",
            "justify_items": null,
            "grid_row": null,
            "max_height": null,
            "align_content": null,
            "visibility": null,
            "align_self": null,
            "height": null,
            "min_height": null,
            "padding": null,
            "grid_auto_rows": null,
            "grid_gap": null,
            "max_width": null,
            "order": null,
            "_view_module_version": "1.2.0",
            "grid_template_areas": null,
            "object_position": null,
            "object_fit": null,
            "grid_auto_columns": null,
            "margin": null,
            "display": null,
            "left": null
          }
        },
        "f73b5c23c5d249b8bb49a3d3b1c0c1fc": {
          "model_module": "@jupyter-widgets/controls",
          "model_name": "DescriptionStyleModel",
          "model_module_version": "1.5.0",
          "state": {
            "_view_name": "StyleView",
            "_model_name": "DescriptionStyleModel",
            "description_width": "",
            "_view_module": "@jupyter-widgets/base",
            "_model_module_version": "1.5.0",
            "_view_count": null,
            "_view_module_version": "1.2.0",
            "_model_module": "@jupyter-widgets/controls"
          }
        },
        "a411836f253e4179a80812df0221e340": {
          "model_module": "@jupyter-widgets/base",
          "model_name": "LayoutModel",
          "model_module_version": "1.2.0",
          "state": {
            "_view_name": "LayoutView",
            "grid_template_rows": null,
            "right": null,
            "justify_content": null,
            "_view_module": "@jupyter-widgets/base",
            "overflow": null,
            "_model_module_version": "1.2.0",
            "_view_count": null,
            "flex_flow": null,
            "width": null,
            "min_width": null,
            "border": null,
            "align_items": null,
            "bottom": null,
            "_model_module": "@jupyter-widgets/base",
            "top": null,
            "grid_column": null,
            "overflow_y": null,
            "overflow_x": null,
            "grid_auto_flow": null,
            "grid_area": null,
            "grid_template_columns": null,
            "flex": null,
            "_model_name": "LayoutModel",
            "justify_items": null,
            "grid_row": null,
            "max_height": null,
            "align_content": null,
            "visibility": null,
            "align_self": null,
            "height": null,
            "min_height": null,
            "padding": null,
            "grid_auto_rows": null,
            "grid_gap": null,
            "max_width": null,
            "order": null,
            "_view_module_version": "1.2.0",
            "grid_template_areas": null,
            "object_position": null,
            "object_fit": null,
            "grid_auto_columns": null,
            "margin": null,
            "display": null,
            "left": null
          }
        },
        "e75a95260acd48c3960f9d9e14b242b9": {
          "model_module": "@jupyter-widgets/controls",
          "model_name": "HBoxModel",
          "model_module_version": "1.5.0",
          "state": {
            "_view_name": "HBoxView",
            "_dom_classes": [],
            "_model_name": "HBoxModel",
            "_view_module": "@jupyter-widgets/controls",
            "_model_module_version": "1.5.0",
            "_view_count": null,
            "_view_module_version": "1.5.0",
            "box_style": "",
            "layout": "IPY_MODEL_ee36ccb80cff4422a7104898028f070b",
            "_model_module": "@jupyter-widgets/controls",
            "children": [
              "IPY_MODEL_864d8756857143c2ba175948ef98f893",
              "IPY_MODEL_6412f8a3d0e94ace8b50790def143cd7",
              "IPY_MODEL_1f94338c5f6f4732a61da2a04d1fa534"
            ]
          }
        },
        "ee36ccb80cff4422a7104898028f070b": {
          "model_module": "@jupyter-widgets/base",
          "model_name": "LayoutModel",
          "model_module_version": "1.2.0",
          "state": {
            "_view_name": "LayoutView",
            "grid_template_rows": null,
            "right": null,
            "justify_content": null,
            "_view_module": "@jupyter-widgets/base",
            "overflow": null,
            "_model_module_version": "1.2.0",
            "_view_count": null,
            "flex_flow": null,
            "width": null,
            "min_width": null,
            "border": null,
            "align_items": null,
            "bottom": null,
            "_model_module": "@jupyter-widgets/base",
            "top": null,
            "grid_column": null,
            "overflow_y": null,
            "overflow_x": null,
            "grid_auto_flow": null,
            "grid_area": null,
            "grid_template_columns": null,
            "flex": null,
            "_model_name": "LayoutModel",
            "justify_items": null,
            "grid_row": null,
            "max_height": null,
            "align_content": null,
            "visibility": null,
            "align_self": null,
            "height": null,
            "min_height": null,
            "padding": null,
            "grid_auto_rows": null,
            "grid_gap": null,
            "max_width": null,
            "order": null,
            "_view_module_version": "1.2.0",
            "grid_template_areas": null,
            "object_position": null,
            "object_fit": null,
            "grid_auto_columns": null,
            "margin": null,
            "display": null,
            "left": null
          }
        },
        "864d8756857143c2ba175948ef98f893": {
          "model_module": "@jupyter-widgets/controls",
          "model_name": "HTMLModel",
          "model_module_version": "1.5.0",
          "state": {
            "_view_name": "HTMLView",
            "style": "IPY_MODEL_e3e637c278554ae5829da58f3df29eb5",
            "_dom_classes": [],
            "description": "",
            "_model_name": "HTMLModel",
            "placeholder": "​",
            "_view_module": "@jupyter-widgets/controls",
            "_model_module_version": "1.5.0",
            "value": "100%",
            "_view_count": null,
            "_view_module_version": "1.5.0",
            "description_tooltip": null,
            "_model_module": "@jupyter-widgets/controls",
            "layout": "IPY_MODEL_b6c9f1a193b6485396dbbecf86247081"
          }
        },
        "6412f8a3d0e94ace8b50790def143cd7": {
          "model_module": "@jupyter-widgets/controls",
          "model_name": "FloatProgressModel",
          "model_module_version": "1.5.0",
          "state": {
            "_view_name": "ProgressView",
            "style": "IPY_MODEL_45a3b055c877445680b088ee0cd9c9a0",
            "_dom_classes": [],
            "description": "",
            "_model_name": "FloatProgressModel",
            "bar_style": "success",
            "max": 13,
            "_view_module": "@jupyter-widgets/controls",
            "_model_module_version": "1.5.0",
            "value": 13,
            "_view_count": null,
            "_view_module_version": "1.5.0",
            "orientation": "horizontal",
            "min": 0,
            "description_tooltip": null,
            "_model_module": "@jupyter-widgets/controls",
            "layout": "IPY_MODEL_867db91ea5b14a228376d4e65ec7fb90"
          }
        },
        "1f94338c5f6f4732a61da2a04d1fa534": {
          "model_module": "@jupyter-widgets/controls",
          "model_name": "HTMLModel",
          "model_module_version": "1.5.0",
          "state": {
            "_view_name": "HTMLView",
            "style": "IPY_MODEL_f4a79dee6a4a40c691a93b20a123bad3",
            "_dom_classes": [],
            "description": "",
            "_model_name": "HTMLModel",
            "placeholder": "​",
            "_view_module": "@jupyter-widgets/controls",
            "_model_module_version": "1.5.0",
            "value": " 13/13 [00:45&lt;00:00,  2.73s/it]",
            "_view_count": null,
            "_view_module_version": "1.5.0",
            "description_tooltip": null,
            "_model_module": "@jupyter-widgets/controls",
            "layout": "IPY_MODEL_ac0cd8a2336d4cbcb89609a8e61cd89d"
          }
        },
        "e3e637c278554ae5829da58f3df29eb5": {
          "model_module": "@jupyter-widgets/controls",
          "model_name": "DescriptionStyleModel",
          "model_module_version": "1.5.0",
          "state": {
            "_view_name": "StyleView",
            "_model_name": "DescriptionStyleModel",
            "description_width": "",
            "_view_module": "@jupyter-widgets/base",
            "_model_module_version": "1.5.0",
            "_view_count": null,
            "_view_module_version": "1.2.0",
            "_model_module": "@jupyter-widgets/controls"
          }
        },
        "b6c9f1a193b6485396dbbecf86247081": {
          "model_module": "@jupyter-widgets/base",
          "model_name": "LayoutModel",
          "model_module_version": "1.2.0",
          "state": {
            "_view_name": "LayoutView",
            "grid_template_rows": null,
            "right": null,
            "justify_content": null,
            "_view_module": "@jupyter-widgets/base",
            "overflow": null,
            "_model_module_version": "1.2.0",
            "_view_count": null,
            "flex_flow": null,
            "width": null,
            "min_width": null,
            "border": null,
            "align_items": null,
            "bottom": null,
            "_model_module": "@jupyter-widgets/base",
            "top": null,
            "grid_column": null,
            "overflow_y": null,
            "overflow_x": null,
            "grid_auto_flow": null,
            "grid_area": null,
            "grid_template_columns": null,
            "flex": null,
            "_model_name": "LayoutModel",
            "justify_items": null,
            "grid_row": null,
            "max_height": null,
            "align_content": null,
            "visibility": null,
            "align_self": null,
            "height": null,
            "min_height": null,
            "padding": null,
            "grid_auto_rows": null,
            "grid_gap": null,
            "max_width": null,
            "order": null,
            "_view_module_version": "1.2.0",
            "grid_template_areas": null,
            "object_position": null,
            "object_fit": null,
            "grid_auto_columns": null,
            "margin": null,
            "display": null,
            "left": null
          }
        },
        "45a3b055c877445680b088ee0cd9c9a0": {
          "model_module": "@jupyter-widgets/controls",
          "model_name": "ProgressStyleModel",
          "model_module_version": "1.5.0",
          "state": {
            "_view_name": "StyleView",
            "_model_name": "ProgressStyleModel",
            "description_width": "",
            "_view_module": "@jupyter-widgets/base",
            "_model_module_version": "1.5.0",
            "_view_count": null,
            "_view_module_version": "1.2.0",
            "bar_color": null,
            "_model_module": "@jupyter-widgets/controls"
          }
        },
        "867db91ea5b14a228376d4e65ec7fb90": {
          "model_module": "@jupyter-widgets/base",
          "model_name": "LayoutModel",
          "model_module_version": "1.2.0",
          "state": {
            "_view_name": "LayoutView",
            "grid_template_rows": null,
            "right": null,
            "justify_content": null,
            "_view_module": "@jupyter-widgets/base",
            "overflow": null,
            "_model_module_version": "1.2.0",
            "_view_count": null,
            "flex_flow": null,
            "width": null,
            "min_width": null,
            "border": null,
            "align_items": null,
            "bottom": null,
            "_model_module": "@jupyter-widgets/base",
            "top": null,
            "grid_column": null,
            "overflow_y": null,
            "overflow_x": null,
            "grid_auto_flow": null,
            "grid_area": null,
            "grid_template_columns": null,
            "flex": null,
            "_model_name": "LayoutModel",
            "justify_items": null,
            "grid_row": null,
            "max_height": null,
            "align_content": null,
            "visibility": null,
            "align_self": null,
            "height": null,
            "min_height": null,
            "padding": null,
            "grid_auto_rows": null,
            "grid_gap": null,
            "max_width": null,
            "order": null,
            "_view_module_version": "1.2.0",
            "grid_template_areas": null,
            "object_position": null,
            "object_fit": null,
            "grid_auto_columns": null,
            "margin": null,
            "display": null,
            "left": null
          }
        },
        "f4a79dee6a4a40c691a93b20a123bad3": {
          "model_module": "@jupyter-widgets/controls",
          "model_name": "DescriptionStyleModel",
          "model_module_version": "1.5.0",
          "state": {
            "_view_name": "StyleView",
            "_model_name": "DescriptionStyleModel",
            "description_width": "",
            "_view_module": "@jupyter-widgets/base",
            "_model_module_version": "1.5.0",
            "_view_count": null,
            "_view_module_version": "1.2.0",
            "_model_module": "@jupyter-widgets/controls"
          }
        },
        "ac0cd8a2336d4cbcb89609a8e61cd89d": {
          "model_module": "@jupyter-widgets/base",
          "model_name": "LayoutModel",
          "model_module_version": "1.2.0",
          "state": {
            "_view_name": "LayoutView",
            "grid_template_rows": null,
            "right": null,
            "justify_content": null,
            "_view_module": "@jupyter-widgets/base",
            "overflow": null,
            "_model_module_version": "1.2.0",
            "_view_count": null,
            "flex_flow": null,
            "width": null,
            "min_width": null,
            "border": null,
            "align_items": null,
            "bottom": null,
            "_model_module": "@jupyter-widgets/base",
            "top": null,
            "grid_column": null,
            "overflow_y": null,
            "overflow_x": null,
            "grid_auto_flow": null,
            "grid_area": null,
            "grid_template_columns": null,
            "flex": null,
            "_model_name": "LayoutModel",
            "justify_items": null,
            "grid_row": null,
            "max_height": null,
            "align_content": null,
            "visibility": null,
            "align_self": null,
            "height": null,
            "min_height": null,
            "padding": null,
            "grid_auto_rows": null,
            "grid_gap": null,
            "max_width": null,
            "order": null,
            "_view_module_version": "1.2.0",
            "grid_template_areas": null,
            "object_position": null,
            "object_fit": null,
            "grid_auto_columns": null,
            "margin": null,
            "display": null,
            "left": null
          }
        }
      }
    }
  },
  "cells": [
    {
      "cell_type": "markdown",
      "metadata": {
        "id": "view-in-github",
        "colab_type": "text"
      },
      "source": [
        "<a href=\"https://colab.research.google.com/github/AbhilashDatta/LITS/blob/main/Federated_Learning.ipynb\" target=\"_parent\"><img src=\"https://colab.research.google.com/assets/colab-badge.svg\" alt=\"Open In Colab\"/></a>"
      ]
    },
    {
      "cell_type": "markdown",
      "metadata": {
        "id": "tm6GmP7jyZpK"
      },
      "source": [
        "# MOUNTING DRIVE"
      ]
    },
    {
      "cell_type": "code",
      "metadata": {
        "colab": {
          "base_uri": "https://localhost:8080/"
        },
        "id": "IOJ2AftVHVV6",
        "outputId": "2efd6ae8-ecf4-415e-820f-452c4ffe9607"
      },
      "source": [
        "from google.colab import drive\n",
        "drive.mount('/content/gdrive')"
      ],
      "execution_count": 1,
      "outputs": [
        {
          "output_type": "stream",
          "name": "stdout",
          "text": [
            "Mounted at /content/gdrive\n"
          ]
        }
      ]
    },
    {
      "cell_type": "markdown",
      "metadata": {
        "id": "EY5d3Qun4axf"
      },
      "source": [
        "# IMPORTING LIBRARIES"
      ]
    },
    {
      "cell_type": "code",
      "metadata": {
        "colab": {
          "base_uri": "https://localhost:8080/"
        },
        "id": "XpMmN44RHRqi",
        "outputId": "59aa321d-e95b-4dbe-def6-3e78b22f39a4"
      },
      "source": [
        "!pip install medpy --upgrade --q\n",
        "!pip install nibabel --upgrade --q\n",
        "!pip install nilearn --upgrade --q\n",
        "!pip install torchio --upgrade --q"
      ],
      "execution_count": 3,
      "outputs": [
        {
          "output_type": "stream",
          "name": "stdout",
          "text": [
            "\u001b[K     |████████████████████████████████| 151 kB 4.1 MB/s \n",
            "\u001b[K     |████████████████████████████████| 48.4 MB 8.2 kB/s \n",
            "\u001b[?25h  Building wheel for medpy (setup.py) ... \u001b[?25l\u001b[?25hdone\n",
            "\u001b[K     |████████████████████████████████| 3.3 MB 4.2 MB/s \n",
            "\u001b[K     |████████████████████████████████| 10.0 MB 3.8 MB/s \n",
            "\u001b[K     |████████████████████████████████| 156 kB 4.1 MB/s \n",
            "\u001b[?25h"
          ]
        }
      ]
    },
    {
      "cell_type": "code",
      "metadata": {
        "id": "dEKJ-kWh4PJo"
      },
      "source": [
        "import os\n",
        "import torch\n",
        "from glob import glob\n",
        "import nibabel as nib\n",
        "import numpy as np\n",
        "import torch.nn as nn\n",
        "import matplotlib.pyplot as plt\n",
        "from torch.autograd import Variable\n",
        "from collections import OrderedDict\n",
        "from torch.utils.data import Dataset, DataLoader\n",
        "import nibabel as nib\n",
        "from tqdm import tqdm\n",
        "import enum\n",
        "from skimage.transform import resize\n",
        "import time\n",
        "from scipy import stats\n",
        "import random\n",
        "from IPython import display\n",
        "import torch.nn.functional as F\n",
        "from sklearn.preprocessing import MinMaxScaler\n",
        "from tensorflow.keras.utils import to_categorical\n",
        "import torchvision\n",
        "import torchio as tio"
      ],
      "execution_count": 4,
      "outputs": []
    },
    {
      "cell_type": "markdown",
      "metadata": {
        "id": "XV-GJKoC1ypD"
      },
      "source": [
        "# GAN "
      ]
    },
    {
      "cell_type": "code",
      "metadata": {
        "id": "wMHpdGhvGfzS"
      },
      "source": [
        "import numpy as np\n",
        "import torch\n",
        "import os\n",
        "from torch import nn\n",
        "from torch import optim\n",
        "from torch.nn import functional as F\n",
        "from skimage.transform import resize\n",
        "  \n",
        "class Generator(nn.Module):\n",
        "    def __init__(self, noise:int=1000, channel:int=64):\n",
        "        super(Generator, self).__init__()\n",
        "        _c = channel\n",
        "        \n",
        "        self.noise = noise\n",
        "        self.fc = nn.Linear(1000,512*4*4*4)\n",
        "        self.bn1 = nn.BatchNorm3d(_c*8)\n",
        "        \n",
        "        self.tp_conv2 = nn.Conv3d(_c*8, _c*4, kernel_size=3, stride=1, padding=1, bias=False)\n",
        "        self.bn2 = nn.BatchNorm3d(_c*4)\n",
        "        \n",
        "        self.tp_conv3 = nn.Conv3d(_c*4, _c*2, kernel_size=3, stride=1, padding=1, bias=False)\n",
        "        self.bn3 = nn.BatchNorm3d(_c*2)\n",
        "        \n",
        "        self.tp_conv4 = nn.Conv3d(_c*2, _c, kernel_size=3, stride=1, padding=1, bias=False)\n",
        "        self.bn4 = nn.BatchNorm3d(_c)\n",
        "        \n",
        "        self.tp_conv5 = nn.Conv3d(_c, 1, kernel_size=3, stride=1, padding=1, bias=False)\n",
        "        \n",
        "    def forward(self, noise):\n",
        "        noise = noise.view(-1, 1000)\n",
        "        h = self.fc(noise)\n",
        "        h = h.view(-1,512,4,4,4)\n",
        "        h = F.relu(self.bn1(h))\n",
        "\n",
        "        h = F.interpolate(h,scale_factor = 2)\n",
        "        h = self.tp_conv2(h)\n",
        "        h = F.relu(self.bn2(h))\n",
        "        \n",
        "        h = F.interpolate(h,scale_factor = 2)\n",
        "        h = self.tp_conv3(h)\n",
        "        h = F.relu(self.bn3(h))\n",
        "\n",
        "        h = F.interpolate(h,scale_factor = 2)\n",
        "        h = self.tp_conv4(h)\n",
        "        h = F.relu(self.bn4(h))\n",
        "\n",
        "        h = F.interpolate(h,scale_factor = 2)\n",
        "        h = self.tp_conv5(h)\n",
        "        \n",
        "        h = torch.tanh(h)\n",
        "\n",
        "        # Extra layers\n",
        "        h = F.interpolate(h,scale_factor = 2)\n",
        "\n",
        "        return h"
      ],
      "execution_count": 5,
      "outputs": []
    },
    {
      "cell_type": "code",
      "metadata": {
        "id": "lDpH8VSDIA5j",
        "colab": {
          "base_uri": "https://localhost:8080/"
        },
        "outputId": "198cdac6-5a43-499c-e606-f0d8478b3657"
      },
      "source": [
        "# Loading Generator\n",
        "\n",
        "G = Generator().cuda()\n",
        "G.load_state_dict(torch.load('/content/gdrive/MyDrive/WGAN_G.pth',map_location='cuda:0'))\n"
      ],
      "execution_count": 6,
      "outputs": [
        {
          "output_type": "execute_result",
          "data": {
            "text/plain": [
              "<All keys matched successfully>"
            ]
          },
          "metadata": {},
          "execution_count": 6
        }
      ]
    },
    {
      "cell_type": "code",
      "metadata": {
        "colab": {
          "base_uri": "https://localhost:8080/",
          "height": 166
        },
        "id": "rRCaxJX54x1-",
        "outputId": "1bc89c04-bcdb-4190-c907-88fdcf461bca"
      },
      "source": [
        "import nibabel as nib\n",
        "from nilearn import plotting\n",
        "\n",
        "Show_color = False\n",
        "\n",
        "noise = Variable(torch.randn((1, 1000)).cuda())\n",
        "fake_image = G(noise)\n",
        "featmask = np.squeeze(fake_image[0].data.cpu().numpy())\n",
        "featmask = nib.Nifti1Image(featmask,affine = np.eye(4))\n",
        "\n",
        "arr1 = [4,6,8,10,12,14,16,18,20,22,24,26,28,30,32]\n",
        "arr2 = [34,36,38,40,42,44,46,48,50,52,54,56,58,60]\n",
        "if Show_color:\n",
        "    disp = plotting.plot_img(featmask,cut_coords=arr1,draw_cross=False,annotate=False,black_bg=True,display_mode='x')\n",
        "    # disp.annotate(size=25,left_right=False,positions=True)\n",
        "    plotting.show()\n",
        "    disp=plotting.plot_img(featmask,cut_coords=arr2,draw_cross=False,annotate=False,black_bg=True,display_mode='x')\n",
        "    # disp.annotate(size=25,left_right=False)\n",
        "    plotting.show()\n",
        "else:\n",
        "    disp = plotting.plot_anat(featmask,cut_coords=arr1,draw_cross=False,annotate=False,black_bg=True,display_mode='x')\n",
        "    plotting.show()\n",
        "    # disp.annotate(size=25,left_right=False)\n",
        "    disp=plotting.plot_anat(featmask,cut_coords=arr2,draw_cross=False,annotate=False,black_bg=True,display_mode='x')\n",
        "    # disp.annotate(size=25,left_right=False)\n",
        "    plotting.show()"
      ],
      "execution_count": 7,
      "outputs": [
        {
          "output_type": "stream",
          "name": "stderr",
          "text": [
            "/usr/local/lib/python3.7/dist-packages/nilearn/datasets/__init__.py:96: FutureWarning: Fetchers from the nilearn.datasets module will be updated in version 0.9 to return python strings instead of bytes and Pandas dataframes instead of Numpy arrays.\n",
            "  \"Numpy arrays.\", FutureWarning)\n"
          ]
        },
        {
          "output_type": "display_data",
          "data": {
            "image/png": "[encoded data removed]",
            "text/plain": [
              "<Figure size 2808x165.6 with 16 Axes>"
            ]
          },
          "metadata": {}
        },
        {
          "output_type": "display_data",
          "data": {
            "image/png": "[encoded data removed]",
            "text/plain": [
              "<Figure size 2620.8x165.6 with 15 Axes>"
            ]
          },
          "metadata": {}
        }
      ]
    },
    {
      "cell_type": "code",
      "metadata": {
        "id": "aPvanwzUHLt4"
      },
      "source": [
        "# visualization\n",
        "import matplotlib.pyplot as plt\n",
        "\n",
        "def show_image(test_image):\n",
        "    count = 1\n",
        "    # test_image = test_image.view(64*2,64*2,64*2)\n",
        "    test_image = test_image.detach().to('cpu')\n",
        "    plt.figure(figsize=(20,12))\n",
        "    for i in range(48):\n",
        "        # if i%2==0:\n",
        "            plt.subplot(8,6,count)\n",
        "            count+=1\n",
        "            # plt.imshow(test_image[:,:,i])\n",
        "            plt.imshow(test_image[:,:,i], cmap='bone')\n",
        "    plt.show()\n",
        "    # plt.savefig('brain_48.png')\n",
        "    \n",
        "    \n",
        "\n",
        "# noise = Variable(torch.randn((1, 1000, 1, 1 ,1)).cuda())\n",
        "\n",
        "# fake_image = G(noise)\n",
        "# print(fake_image.shape)\n",
        "# show_image(fake_image[0])"
      ],
      "execution_count": 8,
      "outputs": []
    },
    {
      "cell_type": "code",
      "metadata": {
        "id": "tfEvTnqUVf71"
      },
      "source": [
        ""
      ],
      "execution_count": null,
      "outputs": []
    },
    {
      "cell_type": "markdown",
      "metadata": {
        "id": "tcnwXaj114i1"
      },
      "source": [
        "# UNET"
      ]
    },
    {
      "cell_type": "code",
      "metadata": {
        "id": "U8dKcWUp1vQA"
      },
      "source": [
        "class Attention(nn.Module):   #it gives channel attention\n",
        "    def __init__(self, in_channels, reduced_dim):  #input_shape ---> output_shape\n",
        "        super(Attention, self).__init__()\n",
        "        self.se = nn.Sequential(\n",
        "            nn.AdaptiveAvgPool3d(1), # C x H x W -> C x 1 x 1\n",
        "            nn.Conv3d(in_channels, reduced_dim, 1),\n",
        "            nn.SiLU(),\n",
        "            nn.Conv3d(reduced_dim, in_channels, 1),\n",
        "            nn.Sigmoid(),\n",
        "        )\n",
        "\n",
        "    def forward(self, x):\n",
        "        return x * self.se(x)\n",
        "\n",
        "@torch.jit.script\n",
        "def autocrop(encoder_layer: torch.Tensor, decoder_layer: torch.Tensor):\n",
        "    \"\"\"\n",
        "    Center-crops the encoder_layer to the size of the decoder_layer,\n",
        "    so that merging (concatenation) between levels/blocks is possible.\n",
        "    This is only necessary for input sizes != 2**n for 'same' padding and always required for 'valid' padding.\n",
        "    \"\"\"\n",
        "    if encoder_layer.shape[2:] != decoder_layer.shape[2:]:\n",
        "        ds = encoder_layer.shape[2:]\n",
        "        es = decoder_layer.shape[2:]\n",
        "        assert ds[0] >= es[0]\n",
        "        assert ds[1] >= es[1]\n",
        "        if encoder_layer.dim() == 4:  # 2D\n",
        "            encoder_layer = encoder_layer[\n",
        "                            :,\n",
        "                            :,\n",
        "                            ((ds[0] - es[0]) // 2):((ds[0] + es[0]) // 2),\n",
        "                            ((ds[1] - es[1]) // 2):((ds[1] + es[1]) // 2)\n",
        "                            ]\n",
        "        elif encoder_layer.dim() == 5:  # 3D\n",
        "            assert ds[2] >= es[2]\n",
        "            encoder_layer = encoder_layer[\n",
        "                            :,\n",
        "                            :,\n",
        "                            ((ds[0] - es[0]) // 2):((ds[0] + es[0]) // 2),\n",
        "                            ((ds[1] - es[1]) // 2):((ds[1] + es[1]) // 2),\n",
        "                            ((ds[2] - es[2]) // 2):((ds[2] + es[2]) // 2),\n",
        "                            ]\n",
        "    return encoder_layer, decoder_layer\n",
        "\n",
        "def conv_layer(dim: int):\n",
        "    if dim == 3:\n",
        "        return nn.Conv3d\n",
        "    elif dim == 2:\n",
        "        return nn.Conv2d\n",
        "\n",
        "def get_conv_layer(in_channels: int,\n",
        "                   out_channels: int,\n",
        "                   kernel_size: int = 3,\n",
        "                   stride: int = 1,\n",
        "                   padding: int = 1,\n",
        "                   bias: bool = True,\n",
        "                   dim: int = 2):\n",
        "    return conv_layer(dim)(in_channels, out_channels, kernel_size=kernel_size, stride=stride, padding=padding,\n",
        "                           bias=bias)\n",
        "\n",
        "def conv_transpose_layer(dim: int):\n",
        "    if dim == 3:\n",
        "        return nn.ConvTranspose3d\n",
        "    elif dim == 2:\n",
        "        return nn.ConvTranspose2d\n",
        "\n",
        "def get_up_layer(in_channels: int,\n",
        "                 out_channels: int,\n",
        "                 kernel_size: int = 2,\n",
        "                 stride: int = 2,\n",
        "                 dim: int = 3,\n",
        "                 up_mode: str = 'transposed',\n",
        "                 ):\n",
        "    if up_mode == 'transposed':\n",
        "        return conv_transpose_layer(dim)(in_channels, out_channels, kernel_size=kernel_size, stride=stride)\n",
        "    else:\n",
        "        return nn.Upsample(scale_factor=2.0, mode=up_mode)\n",
        "\n",
        "def maxpool_layer(dim: int):\n",
        "    if dim == 3:\n",
        "        return nn.MaxPool3d\n",
        "    elif dim == 2:\n",
        "        return nn.MaxPool2d\n",
        "\n",
        "def get_maxpool_layer(kernel_size: int = 2,\n",
        "                      stride: int = 2,\n",
        "                      padding: int = 0,\n",
        "                      dim: int = 2):\n",
        "    return maxpool_layer(dim=dim)(kernel_size=kernel_size, stride=stride, padding=padding)\n",
        "\n",
        "def get_activation(activation: str):\n",
        "    if activation == 'ReLU':\n",
        "        return nn.ReLU()\n",
        "    elif activation == 'leaky':\n",
        "        return nn.LeakyReLU(negative_slope=0.1)\n",
        "    elif activation == 'elu':\n",
        "        return nn.ELU()\n",
        "    elif activation == 'PReLU':\n",
        "        return nn.PReLU()\n",
        "\n",
        "def get_normalization(normalization: str,\n",
        "                      num_channels: int,\n",
        "                      dim: int):\n",
        "    if normalization == 'batch':\n",
        "        if dim == 3:\n",
        "            return nn.BatchNorm3d(num_channels)\n",
        "        elif dim == 2:\n",
        "            return nn.BatchNorm2d(num_channels)\n",
        "    elif normalization == 'instance':\n",
        "        if dim == 3:\n",
        "            return nn.InstanceNorm3d(num_channels)\n",
        "        elif dim == 2:\n",
        "            return nn.InstanceNorm2d(num_channels)\n",
        "    elif 'group' in normalization:\n",
        "        num_groups = int(normalization.partition('group')[-1])  # get the group size from string\n",
        "        return nn.GroupNorm(num_groups=num_groups, num_channels=num_channels)\n",
        "\n",
        "class Concatenate(nn.Module):\n",
        "    def __init__(self):\n",
        "        super(Concatenate, self).__init__()\n",
        "\n",
        "    def forward(self, layer_1, layer_2):\n",
        "        x = torch.cat((layer_1, layer_2), 1)\n",
        "\n",
        "        return x\n",
        "\n",
        "class DownBlock(nn.Module):\n",
        "    \"\"\"\n",
        "    A helper Module that performs 2 Convolutions and 1 MaxPool.\n",
        "    An activation follows each convolution.\n",
        "    A normalization layer follows each convolution.\n",
        "    \"\"\"\n",
        "\n",
        "    def __init__(self,\n",
        "                 in_channels: int,\n",
        "                 out_channels: int,\n",
        "                 pooling: bool = True,\n",
        "                 activation: str = 'relu',\n",
        "                 normalization: str = None,\n",
        "                 dim: str = 2,\n",
        "                 conv_mode: str = 'same'):\n",
        "        super().__init__()\n",
        "\n",
        "        self.in_channels = in_channels\n",
        "        self.out_channels = out_channels\n",
        "        self.pooling = pooling\n",
        "        self.normalization = normalization\n",
        "        if conv_mode == 'same':\n",
        "            self.padding = 1\n",
        "        elif conv_mode == 'valid':\n",
        "            self.padding = 0\n",
        "        self.dim = dim\n",
        "        self.activation = activation\n",
        "\n",
        "        # conv layers\n",
        "        self.conv1 = get_conv_layer(self.in_channels, self.out_channels, kernel_size=3, stride=1, padding=self.padding,\n",
        "                                    bias=True, dim=self.dim)\n",
        "        self.conv2 = get_conv_layer(self.out_channels, self.out_channels, kernel_size=3, stride=1, padding=self.padding,\n",
        "                                    bias=True, dim=self.dim)\n",
        "\n",
        "        # pooling layer\n",
        "        if self.pooling:\n",
        "            self.pool = get_maxpool_layer(kernel_size=2, stride=2, padding=0, dim=self.dim)\n",
        "\n",
        "        # activation layers\n",
        "        self.act1 = get_activation(self.activation)\n",
        "        self.act2 = get_activation(self.activation)\n",
        "\n",
        "        # normalization layers\n",
        "        if self.normalization:\n",
        "            self.norm1 = get_normalization(normalization=self.normalization, num_channels=self.out_channels,\n",
        "                                           dim=self.dim)\n",
        "            self.norm2 = get_normalization(normalization=self.normalization, num_channels=self.out_channels,\n",
        "                                           dim=self.dim)\n",
        "        \n",
        "        self.Attention = Attention(self.out_channels,16)\n",
        "        # self.ProjectExciteLayer = ProjectExciteLayer(self.out_channels)\n",
        "\n",
        "    def forward(self, x):\n",
        "        y = self.conv1(x)  # convolution 1\n",
        "        y = self.act1(y)  # activation 1\n",
        "        if self.normalization:\n",
        "            y = self.norm1(y)  # normalization 1\n",
        "        y = self.conv2(y)  # convolution 2\n",
        "        y = self.act2(y)  # activation 2\n",
        "        if self.normalization:\n",
        "            y = self.norm2(y)  # normalization 2\n",
        "        \n",
        "        y = self.Attention(y)\n",
        "        # y = self.ProjectExciteLayer(y)\n",
        "\n",
        "        before_pooling = y  # save the outputs before the pooling operation\n",
        "        if self.pooling:\n",
        "            y = self.pool(y)  # pooling\n",
        "        return y, before_pooling\n",
        "\n",
        "class UpBlock(nn.Module):\n",
        "    \"\"\"\n",
        "    A helper Module that performs 2 Convolutions and 1 UpConvolution/Upsample.\n",
        "    An activation follows each convolution.\n",
        "    A normalization layer follows each convolution.\n",
        "    \"\"\"\n",
        "\n",
        "    def __init__(self,\n",
        "                 in_channels: int,\n",
        "                 out_channels: int,\n",
        "                 activation: str = 'relu',\n",
        "                 normalization: str = None,\n",
        "                 dim: int = 3,\n",
        "                 conv_mode: str = 'same',\n",
        "                 up_mode: str = 'transposed'\n",
        "                 ):\n",
        "        super().__init__()\n",
        "\n",
        "        self.in_channels = in_channels\n",
        "        self.out_channels = out_channels\n",
        "        self.normalization = normalization\n",
        "        if conv_mode == 'same':\n",
        "            self.padding = 1\n",
        "        elif conv_mode == 'valid':\n",
        "            self.padding = 0\n",
        "        self.dim = dim\n",
        "        self.activation = activation\n",
        "        self.up_mode = up_mode\n",
        "\n",
        "        # upconvolution/upsample layer\n",
        "        self.up = get_up_layer(self.in_channels, self.out_channels, kernel_size=2, stride=2, dim=self.dim,\n",
        "                               up_mode=self.up_mode)\n",
        "\n",
        "        # conv layers\n",
        "        self.conv0 = get_conv_layer(self.in_channels, self.out_channels, kernel_size=1, stride=1, padding=0,\n",
        "                                    bias=True, dim=self.dim)\n",
        "        self.conv1 = get_conv_layer(2 * self.out_channels, self.out_channels, kernel_size=3, stride=1,\n",
        "                                    padding=self.padding,\n",
        "                                    bias=True, dim=self.dim)\n",
        "        self.conv2 = get_conv_layer(self.out_channels, self.out_channels, kernel_size=3, stride=1, padding=self.padding,\n",
        "                                    bias=True, dim=self.dim)\n",
        "\n",
        "        # activation layers\n",
        "        self.act0 = get_activation(self.activation)\n",
        "        self.act1 = get_activation(self.activation)\n",
        "        self.act2 = get_activation(self.activation)\n",
        "\n",
        "        # normalization layers\n",
        "        if self.normalization:\n",
        "            self.norm0 = get_normalization(normalization=self.normalization, num_channels=self.out_channels,\n",
        "                                           dim=self.dim)\n",
        "            self.norm1 = get_normalization(normalization=self.normalization, num_channels=self.out_channels,\n",
        "                                           dim=self.dim)\n",
        "            self.norm2 = get_normalization(normalization=self.normalization, num_channels=self.out_channels,\n",
        "                                           dim=self.dim)\n",
        "\n",
        "        # concatenate layer\n",
        "        self.concat = Concatenate()\n",
        "\n",
        "    def forward(self, encoder_layer, decoder_layer):\n",
        "        \"\"\" Forward pass\n",
        "        Arguments:\n",
        "            encoder_layer: Tensor from the encoder pathway\n",
        "            decoder_layer: Tensor from the decoder pathway (to be up'd)\n",
        "        \"\"\"\n",
        "        \n",
        "        up_layer = self.up(decoder_layer)  # up-convolution/up-sampling\n",
        "        cropped_encoder_layer, dec_layer = autocrop(encoder_layer, up_layer)  # cropping\n",
        "\n",
        "        if self.up_mode != 'transposed':\n",
        "            # We need to reduce the channel dimension with a conv layer\n",
        "            up_layer = self.conv0(up_layer)  # convolution 0\n",
        "        up_layer = self.act0(up_layer)  # activation 0\n",
        "        if self.normalization:\n",
        "            up_layer = self.norm0(up_layer)  # normalization 0\n",
        "\n",
        "        merged_layer = self.concat(up_layer, cropped_encoder_layer)  # concatenation\n",
        "        y = self.conv1(merged_layer)  # convolution 1\n",
        "        y = self.act1(y)  # activation 1\n",
        "        if self.normalization:\n",
        "            y = self.norm1(y)  # normalization 1\n",
        "        y = self.conv2(y)  # convolution 2\n",
        "        y = self.act2(y)  # acivation 2\n",
        "        if self.normalization:\n",
        "            y = self.norm2(y)  # normalization 2\n",
        "        return y\n"
      ],
      "execution_count": 8,
      "outputs": []
    },
    {
      "cell_type": "code",
      "metadata": {
        "id": "iF-EqktCMIIn"
      },
      "source": [
        "class UNet(nn.Module):\n",
        "    def __init__(self,\n",
        "                 in_channels: int = 1,\n",
        "                 out_channels: int = 2,\n",
        "                 n_blocks: int = 4,\n",
        "                 start_filters: int = 32,\n",
        "                 activation: str = 'relu',\n",
        "                 normalization: str = 'batch',\n",
        "                 conv_mode: str = 'same',\n",
        "                 dim: int = 2,\n",
        "                 up_mode: str = 'transposed'\n",
        "                 ):\n",
        "        super().__init__()\n",
        "\n",
        "        self.in_channels = in_channels\n",
        "        self.out_channels = out_channels\n",
        "        self.n_blocks = n_blocks\n",
        "        self.start_filters = start_filters\n",
        "        self.activation = activation\n",
        "        self.normalization = normalization\n",
        "        self.conv_mode = conv_mode\n",
        "        self.dim = dim\n",
        "        self.up_mode = up_mode\n",
        "\n",
        "        self.down_blocks = []\n",
        "        self.up_blocks = []\n",
        "\n",
        "        # create encoder path\n",
        "        for i in range(self.n_blocks):\n",
        "            num_filters_in = self.in_channels if i == 0 else num_filters_out\n",
        "            num_filters_out = self.start_filters * (2 ** i)\n",
        "            pooling = True if i < self.n_blocks - 1 else False\n",
        "\n",
        "            down_block = DownBlock(in_channels=num_filters_in,\n",
        "                                   out_channels=num_filters_out,\n",
        "                                   pooling=pooling,\n",
        "                                   activation=self.activation,\n",
        "                                   normalization=self.normalization,\n",
        "                                   conv_mode=self.conv_mode,\n",
        "                                   dim=self.dim)\n",
        "\n",
        "            self.down_blocks.append(down_block)\n",
        "\n",
        "        # create decoder path (requires only n_blocks-1 blocks)\n",
        "        for i in range(n_blocks - 1):\n",
        "            num_filters_in = num_filters_out\n",
        "            num_filters_out = num_filters_in // 2\n",
        "\n",
        "            up_block = UpBlock(in_channels=num_filters_in,\n",
        "                               out_channels=num_filters_out,\n",
        "                               activation=self.activation,\n",
        "                               normalization=self.normalization,\n",
        "                               conv_mode=self.conv_mode,\n",
        "                               dim=self.dim,\n",
        "                               up_mode=self.up_mode)\n",
        "\n",
        "            self.up_blocks.append(up_block)\n",
        "\n",
        "        # final convolution\n",
        "        self.conv_final = get_conv_layer(num_filters_out, self.out_channels, kernel_size=1, stride=1, padding=0,\n",
        "                                         bias=True, dim=self.dim)\n",
        "\n",
        "        # add the list of modules to current module\n",
        "        self.down_blocks = nn.ModuleList(self.down_blocks)\n",
        "        self.up_blocks = nn.ModuleList(self.up_blocks)\n",
        "\n",
        "        # initialize the weights\n",
        "        self.initialize_parameters()\n",
        "\n",
        "    @staticmethod\n",
        "    def weight_init(module, method, **kwargs):\n",
        "        if isinstance(module, (nn.Conv3d, nn.Conv2d, nn.ConvTranspose3d, nn.ConvTranspose2d)):\n",
        "            method(module.weight, **kwargs)  # weights\n",
        "\n",
        "    @staticmethod\n",
        "    def bias_init(module, method, **kwargs):\n",
        "        if isinstance(module, (nn.Conv3d, nn.Conv2d, nn.ConvTranspose3d, nn.ConvTranspose2d)):\n",
        "            method(module.bias, **kwargs)  # bias\n",
        "\n",
        "    def initialize_parameters(self,\n",
        "                              method_weights=nn.init.kaiming_uniform_,\n",
        "                              method_bias=nn.init.zeros_,\n",
        "                              kwargs_weights={},\n",
        "                              kwargs_bias={}\n",
        "                              ):\n",
        "        for module in self.modules():\n",
        "            self.weight_init(module, method_weights, **kwargs_weights)  # initialize weights\n",
        "            self.bias_init(module, method_bias, **kwargs_bias)  # initialize bias\n",
        "\n",
        "    def forward(self, x: torch.tensor):\n",
        "        encoder_output = []\n",
        "\n",
        "        # Encoder pathway\n",
        "        for module in self.down_blocks:\n",
        "            x, before_pooling = module(x)\n",
        "            encoder_output.append(before_pooling)\n",
        "\n",
        "        # Decoder pathway\n",
        "        for i, module in enumerate(self.up_blocks):\n",
        "            before_pool = encoder_output[-(i + 2)]\n",
        "            x = module(before_pool, x)\n",
        "\n",
        "        x = self.conv_final(x)\n",
        "\n",
        "        return x"
      ],
      "execution_count": 9,
      "outputs": []
    },
    {
      "cell_type": "code",
      "metadata": {
        "id": "-K7AF8z31_M2"
      },
      "source": [
        "segmentor = UNet(in_channels=3,\n",
        "             out_channels=4,\n",
        "             n_blocks=4,\n",
        "             start_filters=32,\n",
        "             activation='ReLU',\n",
        "             normalization='batch',\n",
        "             conv_mode='same',\n",
        "             dim=3).to('cuda')\n",
        "optimizer = torch.optim.Adam(segmentor.parameters(), lr=0.0001)"
      ],
      "execution_count": 10,
      "outputs": []
    },
    {
      "cell_type": "code",
      "metadata": {
        "colab": {
          "base_uri": "https://localhost:8080/"
        },
        "id": "OT38JpD92Vrg",
        "outputId": "d9a2cc92-c304-4497-930f-3340b1e0916f"
      },
      "source": [
        "checkpoint = torch.load('/content/gdrive/MyDrive/weights_best_one.pth')\n",
        "segmentor.load_state_dict(checkpoint['weights'])"
      ],
      "execution_count": 11,
      "outputs": [
        {
          "output_type": "execute_result",
          "data": {
            "text/plain": [
              "<All keys matched successfully>"
            ]
          },
          "metadata": {},
          "execution_count": 11
        }
      ]
    },
    {
      "cell_type": "markdown",
      "metadata": {
        "id": "_I-5QuxX3hKN"
      },
      "source": [
        "# DATA"
      ]
    },
    {
      "cell_type": "code",
      "metadata": {
        "id": "FAgis2Am2kCi"
      },
      "source": [
        "TRAIN_IMG_DIR = \"/content/gdrive/MyDrive/brain/Task01_BrainTumour/imagesTr\" \n",
        "TRAIN_MASK_DIR = \"/content/gdrive/MyDrive/brain/Task01_BrainTumour/labelsTr\"\n",
        "VAL_IMG_DIR = \"/content/gdrive/MyDrive/brain/Task01_BrainTumour/imagesVal\"\n",
        "VAL_MASK_DIR = \"/content/gdrive/MyDrive/brain/Task01_BrainTumour/labelsVal\" \n",
        "TEST_IMG_DIR = \"/content/gdrive/MyDrive/brain/Task01_BrainTumour/imagesTs\" "
      ],
      "execution_count": 12,
      "outputs": []
    },
    {
      "cell_type": "code",
      "metadata": {
        "id": "trxdzye_3mKc"
      },
      "source": [
        "def make_list(s):\n",
        "  l = sorted(os.listdir(s))\n",
        "  return l"
      ],
      "execution_count": 13,
      "outputs": []
    },
    {
      "cell_type": "code",
      "metadata": {
        "colab": {
          "base_uri": "https://localhost:8080/"
        },
        "id": "00ebxWK53nV8",
        "outputId": "2247e064-aa11-4cf9-9af5-5740a58bdb36"
      },
      "source": [
        "images_train = make_list(TRAIN_IMG_DIR)\n",
        "masks_train = make_list(TRAIN_MASK_DIR)\n",
        "images_val = make_list(VAL_IMG_DIR)\n",
        "masks_val = make_list(VAL_MASK_DIR)\n",
        "images_test = make_list(TEST_IMG_DIR)\n",
        "len(images_train), len(masks_train), len(images_val), len(masks_val), len(images_test)"
      ],
      "execution_count": 14,
      "outputs": [
        {
          "output_type": "execute_result",
          "data": {
            "text/plain": [
              "(434, 434, 50, 50, 265)"
            ]
          },
          "metadata": {},
          "execution_count": 14
        }
      ]
    },
    {
      "cell_type": "code",
      "metadata": {
        "colab": {
          "base_uri": "https://localhost:8080/"
        },
        "id": "Zs6izPtd3oqx",
        "outputId": "bf2a156c-d5af-46ce-bd27-bd9ad891f51c"
      },
      "source": [
        "#list of img and mask path......TRAIN\n",
        "img_train_paths = []\n",
        "mask_train_paths = []\n",
        "#list of img and mask path......VAL\n",
        "img_val_paths = []\n",
        "mask_val_paths = []\n",
        "#list of img path.......TEST\n",
        "img_test_paths = []\n",
        "\n",
        "for idx in range(len(images_train)):\n",
        "  img_train_paths.append(os.path.join(TRAIN_IMG_DIR, images_train[idx]))\n",
        "  mask_train_paths.append(os.path.join(TRAIN_MASK_DIR, masks_train[idx]))\n",
        "\n",
        "for idx in range(len(images_val)):\n",
        "  img_val_paths.append(os.path.join(VAL_IMG_DIR, images_val[idx]))\n",
        "  mask_val_paths.append(os.path.join(VAL_MASK_DIR, masks_val[idx]))\n",
        "\n",
        "for idx in range(len(images_test)):\n",
        "  img_test_paths.append(os.path.join(TEST_IMG_DIR, images_test[idx]))\n",
        "\n",
        "len(img_train_paths), len(mask_train_paths), len(img_val_paths), len(mask_val_paths), len(img_test_paths)"
      ],
      "execution_count": 15,
      "outputs": [
        {
          "output_type": "execute_result",
          "data": {
            "text/plain": [
              "(434, 434, 50, 50, 265)"
            ]
          },
          "metadata": {},
          "execution_count": 15
        }
      ]
    },
    {
      "cell_type": "code",
      "metadata": {
        "id": "5oznd9pN30yJ"
      },
      "source": [
        "from torch.utils.data.dataset import Dataset\n",
        "from torch.utils.data import dataloader\n",
        "\n",
        "class TrueDataset(Dataset):\n",
        "  def __init__(self, img_paths=None, mask_paths=None, transform_imgs=None, transform_mask=None):\n",
        "    self.img_paths = img_paths\n",
        "    self.mask_paths = mask_paths\n",
        "    self.transform_imgs = transform_imgs\n",
        "    self.transform_mask = transform_mask\n",
        "    if self.mask_paths is not None:\n",
        "      assert len(self.img_paths) == len(self.mask_paths)\n",
        "    self.images = len(self.img_paths) #list all the files present in that folder...\n",
        "  \n",
        "  def __len__(self):\n",
        "    return len(self.img_paths) #length of dataset\n",
        "  \n",
        "  def __getitem__(self, index):\n",
        "    img_path = self.img_paths[index]\n",
        "    image = nib.load(img_path).get_fdata(dtype=np.float32)\n",
        "    scaler = MinMaxScaler()\n",
        "    image = scaler.fit_transform(image.reshape(-1, image.shape[-1])).reshape(image.shape)\n",
        "    image = image[56:184, 56:184, 73:121]\n",
        "    image0 = image[:,:,:,0]\n",
        "    image2 = image[:,:,:,2]\n",
        "    image3 = image[:,:,:,3]\n",
        "    image = np.stack((image0,image2,image3),axis=3)\n",
        "\n",
        "    if self.mask_paths is not None:\n",
        "      mask_path = self.mask_paths[index]\n",
        "      mask = nib.load(mask_path).get_fdata(dtype=np.float32)\n",
        "      mask = mask.astype(np.uint8)\n",
        "      mask = mask[56:184, 56:184, 73:121]\n",
        "      mask = to_categorical(mask, num_classes=4)\n",
        "\n",
        "    # image = np.load(img_path)\n",
        "    image = torch.from_numpy(image)\n",
        "    image = image.permute(3,0,1,2)\n",
        "\n",
        "    if self.mask_paths is not None:\n",
        "      # mask = np.load(mask_path)\n",
        "      mask = torch.from_numpy(mask)\n",
        "      mask = mask.permute(3,0,1,2)\n",
        " \n",
        "    if self.transform_imgs is not None:\n",
        "      image = training_transforms(image)\n",
        "    if self.transform_mask is not None:\n",
        "      mask = training_transforms(mask)\n",
        "    \n",
        "    if self.mask_paths is not None:\n",
        "      return image, mask\n",
        "    if self.mask_paths is None:\n",
        "      return image"
      ],
      "execution_count": 16,
      "outputs": []
    },
    {
      "cell_type": "code",
      "metadata": {
        "id": "01kHkN6FdGVH"
      },
      "source": [
        "from torch.utils.data.dataset import Dataset\n",
        "from torch.utils.data import dataloader\n",
        "from torch.autograd import Variable\n",
        "\n",
        "class GeneratedDataset(Dataset):\n",
        "  def __init__(self, generator, segmentor):\n",
        "    self.segmentor = segmentor\n",
        "    self.generator = generator\n",
        "\n",
        "  def __len__(self):\n",
        "    return 10   #length of dataset\n",
        "  \n",
        "  def __getitem__(self, index):\n",
        "        torch.manual_seed(index)\n",
        "        noise = Variable(torch.randn((1, 1000, 1, 1 ,1)).cuda())\n",
        "        fake_image = self.generator(noise)\n",
        "        fake_image = fake_image.view(64*2,64*2,64*2)\n",
        "        fake_image = fake_image.detach().to('cpu')\n",
        "\n",
        "        scaler = MinMaxScaler()\n",
        "        fake_image = scaler.fit_transform(fake_image.reshape(-1, fake_image.shape[-1])).reshape(fake_image.shape)\n",
        "\n",
        "        r = range(16,112,2)\n",
        "        image0 = fake_image[:,:,r]\n",
        "        r = range(17,112,2)\n",
        "        image2 = fake_image[:,:,r]\n",
        "        r = range(16,112,2)\n",
        "        image3 = fake_image[:,:,r]\n",
        "\n",
        "        image = np.stack((image0,image2,image3),axis=3)\n",
        "        image = torch.from_numpy(image)\n",
        "        image = image.type(torch.float32)\n",
        "        image = image.permute(3,0,1,2)\n",
        "        img = image.view(1,3, 128, 128, 48).to('cuda')\n",
        "        \n",
        "        mask = self.segmentor(img).softmax(dim=1)        \n",
        "        mask = mask.view(4,128,128,48)\n",
        "\n",
        "        return image, mask\n",
        "        "
      ],
      "execution_count": 59,
      "outputs": []
    },
    {
      "cell_type": "markdown",
      "metadata": {
        "id": "jHB43HlSGiVI"
      },
      "source": [
        "# FEDERATED PIPELINE"
      ]
    },
    {
      "cell_type": "code",
      "metadata": {
        "id": "PeKPNxNY6yW7",
        "colab": {
          "base_uri": "https://localhost:8080/"
        },
        "outputId": "a2958491-6962-4fc9-a15c-9af6433d04fe"
      },
      "source": [
        "# Client 1\n",
        "\n",
        "Client_1 = dict()\n",
        "\n",
        "Client_1['datasource_1'] = TrueDataset(\n",
        "        img_paths=img_train_paths,\n",
        "        mask_paths=mask_train_paths\n",
        "    )\n",
        "\n",
        "Client_1['dataloader_1'] = DataLoader(\n",
        "        Client_1['datasource_1'],\n",
        "        batch_size=4,\n",
        "        num_workers=2,\n",
        "        shuffle=True,\n",
        "    )\n",
        "\n",
        "Client_1['datasource_2'] = GeneratedDataset(\n",
        "        generator = G,\n",
        "        segmentor = segmentor,\n",
        "    )\n",
        "\n",
        "Client_1['dataloader_2'] = DataLoader(\n",
        "        Client_1['datasource_2'],\n",
        "        batch_size=1,\n",
        "        num_workers=0,\n",
        "        shuffle=True,\n",
        "    )\n",
        "\n",
        "Client_1['model'] = UNet(in_channels=3,\n",
        "                    out_channels=4,\n",
        "                    n_blocks=4,\n",
        "                    start_filters=32,\n",
        "                    activation='ReLU',\n",
        "                    normalization='batch',\n",
        "                    conv_mode='same',\n",
        "                    dim=3).to('cuda')\n",
        "\n",
        "Client_1['optimizer'] = torch.optim.Adam(Client_1['model'].parameters(), lr=0.0001)\n",
        "checkpoint = torch.load('/content/gdrive/MyDrive/weights_best_one.pth')\n",
        "Client_1['model'].load_state_dict(checkpoint['weights'])\n",
        "\n",
        "# Client 2\n",
        "Client_2 = dict()\n",
        "\n",
        "Client_2['datasource_1'] = TrueDataset(\n",
        "        img_paths=img_train_paths,\n",
        "        mask_paths=mask_train_paths\n",
        "    )\n",
        "\n",
        "Client_2['dataloader_1'] = DataLoader(\n",
        "        Client_2['datasource_1'],\n",
        "        batch_size=4,\n",
        "        num_workers=2,\n",
        "        shuffle=True,\n",
        "    )\n",
        "\n",
        "Client_2['datasource_2'] = GeneratedDataset(\n",
        "        generator = G,\n",
        "        segmentor = segmentor,\n",
        "    )\n",
        "\n",
        "Client_2['dataloader_2'] = DataLoader(\n",
        "        Client_2['datasource_2'],\n",
        "        batch_size=1,\n",
        "        num_workers=0,\n",
        "        shuffle=True,\n",
        "    )\n",
        "\n",
        "Client_2['model'] = UNet(in_channels=3,\n",
        "                    out_channels=4,\n",
        "                    n_blocks=4,\n",
        "                    start_filters=32,\n",
        "                    activation='ReLU',\n",
        "                    normalization='batch',\n",
        "                    conv_mode='same',\n",
        "                    dim=3).to('cuda')\n",
        "\n",
        "Client_2['optimizer'] = torch.optim.Adam(Client_2['model'].parameters(), lr=0.0001)\n",
        "checkpoint = torch.load('/content/gdrive/MyDrive/weights_best_one.pth')\n",
        "Client_2['model'].load_state_dict(checkpoint['weights'])\n"
      ],
      "execution_count": 73,
      "outputs": [
        {
          "output_type": "execute_result",
          "data": {
            "text/plain": [
              "<All keys matched successfully>"
            ]
          },
          "metadata": {},
          "execution_count": 73
        }
      ]
    },
    {
      "cell_type": "code",
      "metadata": {
        "id": "xcqGU-WMPWVu"
      },
      "source": [
        "Clients = [Client_1, Client_2]"
      ],
      "execution_count": 74,
      "outputs": []
    },
    {
      "cell_type": "code",
      "metadata": {
        "colab": {
          "base_uri": "https://localhost:8080/"
        },
        "id": "Eg3gMQQxMNWl",
        "outputId": "89ca1db8-319c-4cba-9880-bdfc5779b5a9"
      },
      "source": [
        "# Server\n",
        "\n",
        "Server = dict()\n",
        "\n",
        "Server['model'] = UNet(in_channels=3,\n",
        "                    out_channels=4,\n",
        "                    n_blocks=4,\n",
        "                    start_filters=32,\n",
        "                    activation='ReLU',\n",
        "                    normalization='batch',\n",
        "                    conv_mode='same',\n",
        "                    dim=3).to('cuda')\n",
        "\n",
        "Server['optimizer'] = torch.optim.Adam(Server['model'].parameters(), lr=0.0001)\n",
        "checkpoint = torch.load('/content/gdrive/MyDrive/weights_best_one.pth')\n",
        "Server['model'].load_state_dict(checkpoint['weights'])\n",
        "\n"
      ],
      "execution_count": 75,
      "outputs": [
        {
          "output_type": "execute_result",
          "data": {
            "text/plain": [
              "<All keys matched successfully>"
            ]
          },
          "metadata": {},
          "execution_count": 75
        }
      ]
    },
    {
      "cell_type": "code",
      "metadata": {
        "id": "J64HQYPtQVW4"
      },
      "source": [
        "# Loss Function\n",
        "class DiceLoss(nn.Module):\n",
        "    def __init__(self, weight=None, size_average=True):\n",
        "        super(DiceLoss, self).__init__()\n",
        " \n",
        "    def forward(self, inputs, targets, smooth=1):        \n",
        "        \n",
        "        # inputs = F.sigmoid(inputs)       \n",
        "        \n",
        "        inputs = inputs.view(-1)\n",
        "        targets = targets.view(-1)\n",
        "        \n",
        "        intersection = (inputs * targets).sum()                            \n",
        "        dice = (2.*intersection + smooth)/(inputs.sum() + targets.sum() + smooth)  \n",
        "        \n",
        "        return 1 - dice, dice\n",
        "\n",
        "DiceLoss = DiceLoss()\n",
        "\n",
        "\n",
        "ALPHA = 0.8\n",
        "BETA = 0.2\n",
        "GAMMA = 0.75\n",
        "\n",
        "class FocalTverskyLoss(nn.Module):\n",
        "    def __init__(self, weight=None, size_average=True):\n",
        "        super(FocalTverskyLoss, self).__init__()\n",
        "\n",
        "    def forward(self, inputs, targets, smooth=1, alpha=ALPHA, beta=BETA, gamma=GAMMA):\n",
        "        \n",
        "        #comment out if your model contains a sigmoid or equivalent activation layer\n",
        "        # inputs = F.sigmoid(inputs)       \n",
        "        \n",
        "        c,d = DiceLoss(inputs, targets)\n",
        "\n",
        "        #flatten label and prediction tensors\n",
        "        inputs = inputs.view(-1)\n",
        "        targets = targets.view(-1)\n",
        "        \n",
        "        #True Positives, False Positives & False Negatives\n",
        "        TP = (inputs * targets).sum()    \n",
        "        FP = ((1-targets) * inputs).sum()\n",
        "        FN = (targets * (1-inputs)).sum()\n",
        "        \n",
        "        Tversky = (TP + smooth) / (TP + alpha*FP + beta*FN + smooth)  \n",
        "        FocalTversky = (1 - Tversky)**gamma\n",
        "                       \n",
        "        return FocalTversky, d\n",
        "\n",
        "FocalTverskyLoss = FocalTverskyLoss()"
      ],
      "execution_count": 76,
      "outputs": []
    },
    {
      "cell_type": "code",
      "metadata": {
        "colab": {
          "base_uri": "https://localhost:8080/",
          "height": 844,
          "referenced_widgets": [
            "36ce89dd2e964078b9b79a5ee7e3a126",
            "3f9c8518c0374763a0c50ac90fbce11b",
            "60b29086cb574158b1139b0c27a51a5d",
            "3a0ae86a845a47cfb4e0b10d9e91f3ea",
            "24e7ab76fc284ea3a8a9187b93a89c71",
            "1da3810e12284bdf8a82c559ecb6a23c",
            "cb2dc5789c344afeaa1b16bdcf9e8b23",
            "d5523d5c9f8d4e679e3e17d29c15a9a8",
            "35c025d656514e258429825664850b5b",
            "f73b5c23c5d249b8bb49a3d3b1c0c1fc",
            "a411836f253e4179a80812df0221e340"
          ]
        },
        "id": "Xn3oHwn4OM1I",
        "outputId": "f16d6b36-baf0-4a88-89fc-ead706544cf3"
      },
      "source": [
        "# Federated Training loop\n",
        "\n",
        "from tqdm.auto import tqdm\n",
        "import torch.distributions as tdist\n",
        "\n",
        "for epoch in range(2):\n",
        "    print('\\nEpoch:',epoch+1,'\\n')\n",
        "\n",
        "    i = 1\n",
        "    for client in Clients:\n",
        "        print(f'Training Client {i}')\n",
        "        model = client['model']\n",
        "        optimizer = client['optimizer']\n",
        "        epoch_losses = []\n",
        "        dice_coefs = []\n",
        "\n",
        "        # Real Data\n",
        "        for batch_idx, (inputs, targets) in enumerate(tqdm(client['dataloader_1'])):\n",
        "            inputs = inputs.to('cuda')\n",
        "            targets = targets.to('cuda')\n",
        "            optimizer.zero_grad()\n",
        "\n",
        "            with torch.set_grad_enabled(True):\n",
        "                logits = model(inputs)\n",
        "                probabilities = F.softmax(logits, dim=1) \n",
        "                batch_losses, dice_coefficients = FocalTverskyLoss(probabilities, targets) #DiceLoss(probabilities, targets) \n",
        "                batch_loss = batch_losses.mean()\n",
        "                dice_coef = dice_coefficients.mean()\n",
        "                batch_loss.backward()\n",
        "                optimizer.step()               \n",
        "                epoch_losses.append(batch_loss.detach().item())\n",
        "                dice_coefs.append(dice_coef.item())\n",
        "\n",
        "        # GAN Generated Data\n",
        "        for batch_idx, (inputs, targets) in enumerate(tqdm(client['dataloader_2'])):\n",
        "            inputs = inputs.to('cuda')\n",
        "            targets = targets.to('cuda')\n",
        "            optimizer.zero_grad()\n",
        "\n",
        "            with torch.set_grad_enabled(True):\n",
        "                logits = model(inputs)\n",
        "                probabilities = F.softmax(logits, dim=1) \n",
        "                batch_losses, dice_coefficients = FocalTverskyLoss(probabilities, targets) #DiceLoss(probabilities, targets) \n",
        "                batch_loss = batch_losses.mean()\n",
        "                dice_coef = dice_coefficients.mean()\n",
        "                batch_loss.backward()\n",
        "                optimizer.step()               \n",
        "                epoch_losses.append(batch_loss.detach().item())\n",
        "                dice_coefs.append(dice_coef.item())\n",
        "\n",
        "        epoch_losses = np.array(epoch_losses)\n",
        "        dice_coefs = np.array(dice_coefs)\n",
        "\n",
        "        print(f'Mean loss: {epoch_losses.mean():0.3f} \\t Dice score: {dice_coefs.mean():0.3f}\\n')\n",
        "        i+=1\n",
        "\n",
        "    print('\\nSending Weights to Central Server...\\n')\n",
        "\n",
        "    # Updating Server\n",
        "    model = Server['model']\n",
        "    models = [Client_1['model'], Client_2['model']]\n",
        "\n",
        "    with torch.no_grad():\n",
        "        for key in model.state_dict().keys():\n",
        "            if models[0].state_dict()[key].dtype == torch.int64:\n",
        "                model.state_dict()[key].data.copy_(models[0].state_dict()[key])\n",
        "            else:\n",
        "                temp = torch.zeros_like(model.state_dict()[key])\n",
        "                # add noise\n",
        "                for s in range(len(models)):\n",
        "                    n = tdist.Normal(0,1)\n",
        "                    noise = n.sample(models[s].state_dict()[key].size()).squeeze()\n",
        "                    noise = noise.to('cuda')\n",
        "                    noise = noise.view(models[s].state_dict()[key].shape)\n",
        "                    temp += 0.5*(models[s].state_dict()[key] + noise*1e-5)\n",
        "\n",
        "                # update server model\n",
        "                model.state_dict()[key].data.copy_(temp)\n",
        "                \n",
        "                # updata client model\n",
        "                for s in range(len(models)):\n",
        "                    models[s].state_dict()[key].data.copy_(model.state_dict()[key])\n",
        "    \n",
        "    print('Central Server Updated...\\n')\n",
        "    print('Local Clients Updated...\\n')\n"
      ],
      "execution_count": 77,
      "outputs": [
        {
          "output_type": "stream",
          "name": "stdout",
          "text": [
            "\n",
            "Epoch: 1 \n",
            "\n",
            "Training Client 1\n"
          ]
        },
        {
          "output_type": "display_data",
          "data": {
            "application/vnd.jupyter.widget-view+json": {
              "model_id": "36ce89dd2e964078b9b79a5ee7e3a126",
              "version_minor": 0,
              "version_major": 2
            },
            "text/plain": [
              "  0%|          | 0/13 [00:00<?, ?it/s]"
            ]
          },
          "metadata": {}
        },
        {
          "output_type": "display_data",
          "data": {
            "application/vnd.jupyter.widget-view+json": {
              "model_id": "4cfb5e439291440db1b5c55b3e55f3b5",
              "version_minor": 0,
              "version_major": 2
            },
            "text/plain": [
              "  0%|          | 0/10 [00:00<?, ?it/s]"
            ]
          },
          "metadata": {}
        },
        {
          "output_type": "stream",
          "name": "stdout",
          "text": [
            "Mean loss: 0.087 \t Dice score: 0.961\n",
            "\n",
            "Training Client 2\n"
          ]
        },
        {
          "output_type": "display_data",
          "data": {
            "application/vnd.jupyter.widget-view+json": {
              "model_id": "96ff1971a2d540f0804705e4a10047aa",
              "version_minor": 0,
              "version_major": 2
            },
            "text/plain": [
              "  0%|          | 0/13 [00:00<?, ?it/s]"
            ]
          },
          "metadata": {}
        },
        {
          "output_type": "display_data",
          "data": {
            "application/vnd.jupyter.widget-view+json": {
              "model_id": "6f59ea6fdc244c22baef7a92c3418b56",
              "version_minor": 0,
              "version_major": 2
            },
            "text/plain": [
              "  0%|          | 0/10 [00:00<?, ?it/s]"
            ]
          },
          "metadata": {}
        },
        {
          "output_type": "stream",
          "name": "stdout",
          "text": [
            "Mean loss: 0.089 \t Dice score: 0.959\n",
            "\n",
            "\n",
            "Sending Weights to Central Server...\n",
            "\n",
            "Central Server Updated...\n",
            "\n",
            "Local Clients Updated...\n",
            "\n",
            "\n",
            "Epoch: 2 \n",
            "\n",
            "Training Client 1\n"
          ]
        },
        {
          "output_type": "display_data",
          "data": {
            "application/vnd.jupyter.widget-view+json": {
              "model_id": "b1dfcd9febbd483ebaef71ad83dce925",
              "version_minor": 0,
              "version_major": 2
            },
            "text/plain": [
              "  0%|          | 0/13 [00:00<?, ?it/s]"
            ]
          },
          "metadata": {}
        },
        {
          "output_type": "display_data",
          "data": {
            "application/vnd.jupyter.widget-view+json": {
              "model_id": "8c93f2bde67446af85a079b9e0aa0bb1",
              "version_minor": 0,
              "version_major": 2
            },
            "text/plain": [
              "  0%|          | 0/10 [00:00<?, ?it/s]"
            ]
          },
          "metadata": {}
        },
        {
          "output_type": "stream",
          "name": "stdout",
          "text": [
            "Mean loss: 0.090 \t Dice score: 0.958\n",
            "\n",
            "Training Client 2\n"
          ]
        },
        {
          "output_type": "display_data",
          "data": {
            "application/vnd.jupyter.widget-view+json": {
              "model_id": "6e063405cab2414585483e1f158b799d",
              "version_minor": 0,
              "version_major": 2
            },
            "text/plain": [
              "  0%|          | 0/13 [00:00<?, ?it/s]"
            ]
          },
          "metadata": {}
        },
        {
          "output_type": "display_data",
          "data": {
            "application/vnd.jupyter.widget-view+json": {
              "model_id": "39e96043665640e89aa1fcbcb1ba3290",
              "version_minor": 0,
              "version_major": 2
            },
            "text/plain": [
              "  0%|          | 0/10 [00:00<?, ?it/s]"
            ]
          },
          "metadata": {}
        },
        {
          "output_type": "stream",
          "name": "stdout",
          "text": [
            "Mean loss: 0.086 \t Dice score: 0.962\n",
            "\n",
            "\n",
            "Sending Weights to Central Server...\n",
            "\n",
            "Central Server Updated...\n",
            "\n",
            "Local Clients Updated...\n",
            "\n"
          ]
        }
      ]
    },
    {
      "cell_type": "markdown",
      "metadata": {
        "id": "Z_eCZRp9rtDR"
      },
      "source": [
        "# INFERENCE"
      ]
    },
    {
      "cell_type": "code",
      "metadata": {
        "id": "CryfcVMF57gG"
      },
      "source": [
        "val_ds = TrueDataset(\n",
        "        img_paths = img_val_paths,\n",
        "        mask_paths = mask_val_paths\n",
        "    )\n",
        "\n",
        "val_loader = DataLoader(\n",
        "        val_ds,\n",
        "        batch_size=4,\n",
        "        num_workers=2,\n",
        "        shuffle=False,\n",
        "    )\n"
      ],
      "execution_count": 78,
      "outputs": []
    },
    {
      "cell_type": "code",
      "metadata": {
        "colab": {
          "base_uri": "https://localhost:8080/",
          "height": 49,
          "referenced_widgets": [
            "e75a95260acd48c3960f9d9e14b242b9",
            "ee36ccb80cff4422a7104898028f070b",
            "864d8756857143c2ba175948ef98f893",
            "6412f8a3d0e94ace8b50790def143cd7",
            "1f94338c5f6f4732a61da2a04d1fa534",
            "e3e637c278554ae5829da58f3df29eb5",
            "b6c9f1a193b6485396dbbecf86247081",
            "45a3b055c877445680b088ee0cd9c9a0",
            "867db91ea5b14a228376d4e65ec7fb90",
            "f4a79dee6a4a40c691a93b20a123bad3",
            "ac0cd8a2336d4cbcb89609a8e61cd89d"
          ]
        },
        "id": "pyjYTGrqWXEd",
        "outputId": "14289caf-906d-47f4-c7b7-93e7d64ca9d5"
      },
      "source": [
        "model = Server['model']\n",
        "# model = segmentor\n",
        "model.eval()\n",
        "with torch.no_grad():\n",
        "    for batch_idx, (inputs,outputs) in enumerate(tqdm(val_loader)):\n",
        "        inputs = inputs.to('cuda')\n",
        "        outputs = outputs.to('cuda')\n",
        "        logits = model(inputs).softmax(dim=1)\n"
      ],
      "execution_count": 79,
      "outputs": [
        {
          "output_type": "display_data",
          "data": {
            "application/vnd.jupyter.widget-view+json": {
              "model_id": "e75a95260acd48c3960f9d9e14b242b9",
              "version_minor": 0,
              "version_major": 2
            },
            "text/plain": [
              "  0%|          | 0/13 [00:00<?, ?it/s]"
            ]
          },
          "metadata": {}
        }
      ]
    },
    {
      "cell_type": "code",
      "metadata": {
        "id": "1hY0g2onsVMX"
      },
      "source": [
        "l = logits.cpu()\n",
        "l = np.argmax(l, axis=1)\n",
        "i = inputs.cpu()\n",
        "o = outputs.cpu()\n",
        "o = np.argmax(o, axis=1)"
      ],
      "execution_count": 80,
      "outputs": []
    },
    {
      "cell_type": "code",
      "metadata": {
        "colab": {
          "base_uri": "https://localhost:8080/",
          "height": 517
        },
        "id": "WmD8kR0Prlr5",
        "outputId": "e068a54c-29e4-4fc4-a3a2-9b9225b9baff"
      },
      "source": [
        "n_slice=random.randint(0, o.shape[3])\n",
        "plt.figure(figsize=(12, 8))\n",
        "no=0\n",
        "print(n_slice,no)\n",
        "\n",
        "plt.subplot(221)\n",
        "plt.imshow(i[no,0,:,:, n_slice], cmap='gray')\n",
        "plt.title('Image flair')\n",
        "plt.subplot(222)\n",
        "plt.imshow(i[no,1,:,:, n_slice], cmap='gray')\n",
        "plt.title('Image t1ce')\n",
        "plt.subplot(223)\n",
        "plt.imshow(o[no,:,:,n_slice])\n",
        "plt.title('Mask original')\n",
        "plt.subplot(224)\n",
        "plt.imshow(l[no,:,:,n_slice])\n",
        "plt.title('Mask predicted')\n",
        "plt.show()"
      ],
      "execution_count": 82,
      "outputs": [
        {
          "output_type": "stream",
          "name": "stdout",
          "text": [
            "32 0\n"
          ]
        },
        {
          "output_type": "display_data",
          "data": {
            "image/png": "[encoded data removed]",
            "text/plain": [
              "<Figure size 864x576 with 4 Axes>"
            ]
          },
          "metadata": {
            "needs_background": "light"
          }
        }
      ]
    },
    {
      "cell_type": "code",
      "metadata": {
        "id": "1ONgGeTjsewu"
      },
      "source": [
        ""
      ],
      "execution_count": null,
      "outputs": []
    }
  ]
}